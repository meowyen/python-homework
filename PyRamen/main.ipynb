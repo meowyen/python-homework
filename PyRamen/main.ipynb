{
 "metadata": {
  "language_info": {
   "codemirror_mode": {
    "name": "ipython",
    "version": 3
   },
   "file_extension": ".py",
   "mimetype": "text/x-python",
   "name": "python",
   "nbconvert_exporter": "python",
   "pygments_lexer": "ipython3",
   "version": "3.7.7-final"
  },
  "orig_nbformat": 2,
  "kernelspec": {
   "name": "python3",
   "display_name": "Python 3.7.7 64-bit ('dev': conda)",
   "metadata": {
    "interpreter": {
     "hash": "463d3ee34ef92f4ed4581a17d71fba2c632e005f1e63fc54d3b1b9925e86d18d"
    }
   }
  }
 },
 "nbformat": 4,
 "nbformat_minor": 2,
 "cells": [
  {
   "source": [
    "# PyRamen\n",
    "\n",
    "Generate a sales report of each menu item in the menu and show the following for each menu item sold:\n",
    "- the number sold\n",
    "- the revenue\n",
    "- the cost of goods sold\n",
    "- the profit\n"
   ],
   "cell_type": "markdown",
   "metadata": {}
  },
  {
   "cell_type": "code",
   "execution_count": 17,
   "metadata": {
    "tags": []
   },
   "outputs": [
    {
     "output_type": "stream",
     "name": "stdout",
     "text": [
      "Total sales: 74124\n"
     ]
    }
   ],
   "source": [
    "import csv\n",
    "from pathlib import Path\n",
    "\n",
    "\"\"\"\n",
    "Open CSV file, read in each row and append to a list. Return the list of rows.\n",
    "\"\"\"\n",
    "def read_rows(filename):\n",
    "    filepath = Path(filename)\n",
    "\n",
    "    items = []\n",
    "\n",
    "    with open(filepath, \"r\") as csv_file:\n",
    "        csv_reader = csv.reader(csv_file, delimiter=\",\")\n",
    "\n",
    "        # skip header\n",
    "        next(csv_reader)\n",
    "\n",
    "        for row in csv_reader:\n",
    "            items.append(row)\n",
    "\n",
    "    return items\n",
    "\n",
    "# Get rows from CSV files\n",
    "menu = read_rows(\"menu_data.csv\")\n",
    "sales = read_rows(\"sales_data.csv\")\n",
    "\n",
    "# Initialize dict object to hold our key-value pairs of items and metrics\n",
    "report = {}\n",
    "\n",
    "# Initialize a row counter variable\n",
    "row_count = 0\n",
    "\n",
    "# Loop over every row in the sales list object\n",
    "for sales_item in sales:\n",
    "    # Line_Item_ID,Date,Credit_Card_Number,Quantity,Menu_Item\n",
    "    # Initialize sales data variables\n",
    "    quantity = int(sales_item[3])\n",
    "    sale_menu_item = sales_item[4]\n",
    "\n",
    "    # If the item value not in the report, add it as a new entry with initialized metrics\n",
    "    # Naming convention allows the keys to be ordered in logical fashion, count, revenue, cost, profit\n",
    "    if sale_menu_item not in report:\n",
    "        report[sale_menu_item] = {\n",
    "            \"01-count\": 0,\n",
    "            \"02-revenue\": 0,\n",
    "            \"03-cogs\": 0,\n",
    "            \"04-profit\": 0,\n",
    "        }\n",
    "\n",
    "    # For every row in our sales data, loop over the menu records to determine a match\n",
    "    for item in menu:\n",
    "        # Item,Category,Description,Price,Cost\n",
    "        # Initialize menu data variables\n",
    "        menu_item = item[0]\n",
    "        price = float(item[3])\n",
    "        cost = float(item[4])\n",
    "\n",
    "        # Calculate profit of each item in the menu data\n",
    "        profit = price - cost\n",
    "\n",
    "        # If the item value in our sales data is equal to the any of the items in the menu, then begin tracking metrics for that item\n",
    "        if menu_item == sale_menu_item:\n",
    "            # Print out matching menu data\n",
    "            print(f\"{menu_item} costs ${cost} and sold for ${price} with profit of ${profit}\")\n",
    "\n",
    "            # Cumulatively add up the metrics for each item key\n",
    "            report[sale_menu_item][\"01-count\"] += quantity\n",
    "            report[sale_menu_item][\"02-revenue\"] += price * quantity\n",
    "            report[sale_menu_item][\"03-cogs\"] += cost * quantity\n",
    "            report[sale_menu_item][\"04-profit\"] += profit * quantity\n",
    "        # Else, the sales item does not equal any fo the item in the menu data, therefore no match\n",
    "        else:\n",
    "            print(f\"{sale_menu_item} does not equal {menu_item}! NO MATCH!\")\n",
    "\n",
    "    # Increment the row counter by 1\n",
    "    row_count += 1\n",
    "\n",
    "# Print total number of records in sales data\n",
    "print(f\"Total sales: {row_count}\")\n",
    "\n",
    "# Write out report to a text file (won't appear on the command line output)\n",
    "output_filepath = Path(\"output.txt\")\n",
    "with open(output_filepath, \"w\") as output_file:\n",
    "    for key in report:\n",
    "        value = report[key]\n",
    "        count = value[\"01-count\"]\n",
    "        revenue = value[\"02-revenue\"]\n",
    "        cogs = value[\"03-cogs\"]\n",
    "        profit = value[\"04-profit\"]\n",
    "\n",
    "        output_file.write(f\"{key} {{'01-count': {count}, '02-revenue': {revenue:.1f}, '03-cogs': {cogs:.1f}, '04-profit': {profit}}}\\n\")"
   ]
  }
 ]
}