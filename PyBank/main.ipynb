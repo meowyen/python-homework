{
 "metadata": {
  "language_info": {
   "codemirror_mode": {
    "name": "ipython",
    "version": 3
   },
   "file_extension": ".py",
   "mimetype": "text/x-python",
   "name": "python",
   "nbconvert_exporter": "python",
   "pygments_lexer": "ipython3",
   "version": "3.7.7-final"
  },
  "orig_nbformat": 2,
  "kernelspec": {
   "name": "python3",
   "display_name": "Python 3.7.7 64-bit ('dev': conda)",
   "metadata": {
    "interpreter": {
     "hash": "463d3ee34ef92f4ed4581a17d71fba2c632e005f1e63fc54d3b1b9925e86d18d"
    }
   }
  }
 },
 "nbformat": 4,
 "nbformat_minor": 2,
 "cells": [
  {
   "source": [
    "# PyBank\n",
    "\n",
    "Analyze the financial records of a fake bank, providing the following:\n",
    "\n",
    "- The total number of months included in the dataset.\n",
    "- The net total amount of Profit/Losses over the entire period.\n",
    "- The average of the changes in Profit/Losses over the entire period.\n",
    "- The greatest increase in profits (date and amount) over the entire period.\n",
    "- The greatest decrease in losses (date and amount) over the entire period.\n",
    "\n",
    "Results are printed to the terminal and a text file named `output.txt`."
   ],
   "cell_type": "markdown",
   "metadata": {}
  },
  {
   "cell_type": "code",
   "execution_count": 7,
   "metadata": {},
   "outputs": [
    {
     "output_type": "stream",
     "name": "stdout",
     "text": [
      "Financial Analysis\n------------------\nTotal Months: 86\nTotal: $38382578\nAverage Change: $-2315.12\nGreatest Increase in Profits: Feb-2012 ($1926159)\nGreatest Decrease in Losses: Sep-2013 ($-2196167)\n"
     ]
    }
   ],
   "source": [
    "\"\"\"\n",
    "Read in a CSV file and calculate the following information:\n",
    "\n",
    "1. The total number of months included in the dataset.\n",
    "2. The net total amount of Profit/Losses over the entire period.\n",
    "3. The average of the changes in Profit/Losses over the entire period.\n",
    "4. The greatest increase in profits (date and amount) over the entire period.\n",
    "5. The greatest decrease in losses (date and amount) over the entire period.\n",
    "\n",
    "Results are printed to terminal and exported to a text file (output.txt).\n",
    "\"\"\"\n",
    "import csv\n",
    "from pathlib import Path\n",
    "\n",
    "\"\"\"\n",
    "Analyze financials for specified input file and output results to terminal and specified output file.\n",
    "\"\"\"\n",
    "def analyze_financials(input_filename, output_filename):\n",
    "    # set file path\n",
    "    data_filepath = Path(input_filename)\n",
    "\n",
    "    # initialize variables\n",
    "    total_months = 0\n",
    "    total = 0\n",
    "    total_change = 0\n",
    "    previous_profit_loss = 0\n",
    "    max_change_profit = 0\n",
    "    max_change_profit_date = \"\"\n",
    "    max_change_loss = 0\n",
    "    max_change_loss_date = \"\"\n",
    "\n",
    "    # open and read CSV file\n",
    "    with open(data_filepath, \"r\") as csv_file:\n",
    "        # get CSV reader\n",
    "        csv_reader = csv.reader(csv_file, delimiter=\",\")\n",
    "\n",
    "        # get header, but don't actually need this header anywhere\n",
    "        header = next(csv_reader)\n",
    "\n",
    "        # loop through each row in CSV file\n",
    "        for row in csv_reader:\n",
    "            # Date value\n",
    "            month_year = row[0]\n",
    "            # Profit/Losses value\n",
    "            profit_loss = int(row[1])\n",
    "\n",
    "            # calculate change between this month and previous month, except for the first month\n",
    "            profit_loss_change = 0\n",
    "            if total_months > 0:\n",
    "                profit_loss_change = profit_loss - previous_profit_loss\n",
    "\n",
    "            # Update greatest increase in profit\n",
    "            if profit_loss_change > 0 and profit_loss_change > max_change_profit:\n",
    "                max_change_profit = profit_loss_change\n",
    "                max_change_profit_date = month_year\n",
    "\n",
    "            # Update greatest decrease in losses\n",
    "            if profit_loss_change < 0 and profit_loss_change < max_change_loss:\n",
    "                max_change_loss = profit_loss_change\n",
    "                max_change_loss_date = month_year\n",
    "\n",
    "            # track previous change\n",
    "            previous_profit_loss = profit_loss\n",
    "            # update totals\n",
    "            total += profit_loss\n",
    "            total_months += 1\n",
    "            total_change += profit_loss_change\n",
    "\n",
    "    # calculate average change\n",
    "    average_change = total_change / (total_months - 1)\n",
    "\n",
    "    # output results to terminal\n",
    "    print(\"Financial Analysis\")\n",
    "    print(\"------------------\")\n",
    "    print(f\"Total Months: {total_months}\")\n",
    "    print(f\"Total: ${total}\")\n",
    "    print(f\"Average Change: ${average_change:.2f}\")\n",
    "    print(f\"Greatest Increase in Profits: {max_change_profit_date} (${max_change_profit})\")\n",
    "    print(f\"Greatest Decrease in Losses: {max_change_loss_date} (${max_change_loss})\")\n",
    "\n",
    "    # write output to a file\n",
    "    output_filepath = Path(output_filename)\n",
    "    with open(output_filepath, \"w\") as file:\n",
    "        file.write(\"Financial Analysis\\n\")\n",
    "        file.write(\"------------------\\n\")\n",
    "        file.write(f\"Total Months: {total_months}\\n\")\n",
    "        file.write(f\"Total: ${total}\\n\")\n",
    "        file.write(f\"Average Change: ${average_change:.2f}\\n\")\n",
    "        file.write(f\"Greatest Increase in Profits: {max_change_profit_date} (${max_change_profit})\\n\")\n",
    "        file.write(f\"Greatest Decrease in Losses: {max_change_loss_date} (${max_change_loss})\\n\")\n",
    "\n",
    "# Analyze financials for budget_data.csv\n",
    "analyze_financials(\"budget_data.csv\", \"financial_analysis_results.txt\")"
   ]
  }
 ]
}